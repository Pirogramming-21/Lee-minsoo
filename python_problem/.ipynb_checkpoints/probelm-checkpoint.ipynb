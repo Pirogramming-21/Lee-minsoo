{
 "cells": [
  {
   "cell_type": "code",
   "execution_count": null,
   "metadata": {},
   "outputs": [],
   "source": [
    "# 특정 셀에서 입력을 받습니다.\n",
    "name = input(\"Enter your name: \")\n",
    "print(f\"Hello, {name}!\")\n"
   ]
  }
 ],
 "metadata": {
  "language_info": {
   "name": "python"
  }
 },
 "nbformat": 4,
 "nbformat_minor": 2
}
